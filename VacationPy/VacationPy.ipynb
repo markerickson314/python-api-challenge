{
 "cells": [
  {
   "cell_type": "markdown",
   "metadata": {},
   "source": [
    "# VacationPy\n",
    "----\n",
    "\n",
    "#### Note\n",
    "* Instructions have been included for each segment. You do not have to follow them exactly, but they are included to help you think through the steps."
   ]
  },
  {
   "cell_type": "code",
   "execution_count": 1,
   "metadata": {},
   "outputs": [],
   "source": [
    "# Dependencies and Setup\n",
    "import matplotlib.pyplot as plt\n",
    "import pandas as pd\n",
    "import numpy as np\n",
    "import requests\n",
    "import gmaps\n",
    "import os\n",
    "\n",
    "# Import API key\n",
    "from api_keys import g_key"
   ]
  },
  {
   "cell_type": "markdown",
   "metadata": {},
   "source": [
    "### Store Part I results into DataFrame\n",
    "* Load the csv exported in Part I to a DataFrame"
   ]
  },
  {
   "cell_type": "code",
   "execution_count": 2,
   "metadata": {},
   "outputs": [
    {
     "data": {
      "text/html": [
       "<div>\n",
       "<style scoped>\n",
       "    .dataframe tbody tr th:only-of-type {\n",
       "        vertical-align: middle;\n",
       "    }\n",
       "\n",
       "    .dataframe tbody tr th {\n",
       "        vertical-align: top;\n",
       "    }\n",
       "\n",
       "    .dataframe thead th {\n",
       "        text-align: right;\n",
       "    }\n",
       "</style>\n",
       "<table border=\"1\" class=\"dataframe\">\n",
       "  <thead>\n",
       "    <tr style=\"text-align: right;\">\n",
       "      <th></th>\n",
       "      <th>City</th>\n",
       "      <th>Lat</th>\n",
       "      <th>Lng</th>\n",
       "      <th>Max Temp</th>\n",
       "      <th>Humidity</th>\n",
       "      <th>Cloudiness</th>\n",
       "      <th>Wind Speed</th>\n",
       "      <th>Country</th>\n",
       "    </tr>\n",
       "  </thead>\n",
       "  <tbody>\n",
       "    <tr>\n",
       "      <th>0</th>\n",
       "      <td>rikitea</td>\n",
       "      <td>-23.12</td>\n",
       "      <td>-134.97</td>\n",
       "      <td>68.20</td>\n",
       "      <td>59</td>\n",
       "      <td>87</td>\n",
       "      <td>5.78</td>\n",
       "      <td>PF</td>\n",
       "    </tr>\n",
       "    <tr>\n",
       "      <th>1</th>\n",
       "      <td>barrow</td>\n",
       "      <td>71.29</td>\n",
       "      <td>-156.79</td>\n",
       "      <td>35.60</td>\n",
       "      <td>96</td>\n",
       "      <td>90</td>\n",
       "      <td>3.60</td>\n",
       "      <td>US</td>\n",
       "    </tr>\n",
       "    <tr>\n",
       "      <th>2</th>\n",
       "      <td>georgetown</td>\n",
       "      <td>5.41</td>\n",
       "      <td>100.34</td>\n",
       "      <td>78.80</td>\n",
       "      <td>88</td>\n",
       "      <td>40</td>\n",
       "      <td>1.00</td>\n",
       "      <td>MY</td>\n",
       "    </tr>\n",
       "    <tr>\n",
       "      <th>3</th>\n",
       "      <td>atuona</td>\n",
       "      <td>-9.80</td>\n",
       "      <td>-139.03</td>\n",
       "      <td>79.59</td>\n",
       "      <td>77</td>\n",
       "      <td>17</td>\n",
       "      <td>7.77</td>\n",
       "      <td>PF</td>\n",
       "    </tr>\n",
       "    <tr>\n",
       "      <th>4</th>\n",
       "      <td>cape town</td>\n",
       "      <td>-33.93</td>\n",
       "      <td>18.42</td>\n",
       "      <td>66.20</td>\n",
       "      <td>55</td>\n",
       "      <td>0</td>\n",
       "      <td>2.60</td>\n",
       "      <td>ZA</td>\n",
       "    </tr>\n",
       "  </tbody>\n",
       "</table>\n",
       "</div>"
      ],
      "text/plain": [
       "         City    Lat     Lng  Max Temp  Humidity  Cloudiness  Wind Speed  \\\n",
       "0     rikitea -23.12 -134.97     68.20        59          87        5.78   \n",
       "1      barrow  71.29 -156.79     35.60        96          90        3.60   \n",
       "2  georgetown   5.41  100.34     78.80        88          40        1.00   \n",
       "3      atuona  -9.80 -139.03     79.59        77          17        7.77   \n",
       "4   cape town -33.93   18.42     66.20        55           0        2.60   \n",
       "\n",
       "  Country  \n",
       "0      PF  \n",
       "1      US  \n",
       "2      MY  \n",
       "3      PF  \n",
       "4      ZA  "
      ]
     },
     "execution_count": 2,
     "metadata": {},
     "output_type": "execute_result"
    }
   ],
   "source": [
    "# load csv to dataframe\n",
    "city_data = pd.read_csv(\"../WeatherPy/output_data/cities.csv\")\n",
    "city_data.head()\n"
   ]
  },
  {
   "cell_type": "markdown",
   "metadata": {},
   "source": [
    "### Humidity Heatmap\n",
    "* Configure gmaps.\n",
    "* Use the Lat and Lng as locations and Humidity as the weight.\n",
    "* Add Heatmap layer to map."
   ]
  },
  {
   "cell_type": "code",
   "execution_count": 3,
   "metadata": {},
   "outputs": [],
   "source": [
    "# configure gmaps\n",
    "gmaps.configure(api_key=g_key)\n",
    "\n",
    "# Lat and Lng as locations and humidity as weight\n",
    "locations = city_data[[\"Lat\", \"Lng\"]]\n",
    "humidity = city_data[\"Humidity\"]"
   ]
  },
  {
   "cell_type": "code",
   "execution_count": 4,
   "metadata": {},
   "outputs": [
    {
     "data": {
      "application/vnd.jupyter.widget-view+json": {
       "model_id": "2420bfba19b44b93b0ca620729b01462",
       "version_major": 2,
       "version_minor": 0
      },
      "text/plain": [
       "Figure(layout=FigureLayout(height='420px'))"
      ]
     },
     "metadata": {},
     "output_type": "display_data"
    }
   ],
   "source": [
    "# add heatmap layer to map and display \n",
    "fig = gmaps.figure()\n",
    "heat_layer = gmaps.heatmap_layer(locations, weights=humidity, dissipating=False, \n",
    "                                 max_intensity=100, point_radius=1)\n",
    "fig.add_layer(heat_layer)\n",
    "fig"
   ]
  },
  {
   "cell_type": "markdown",
   "metadata": {},
   "source": [
    "### Create new DataFrame fitting weather criteria\n",
    "* Narrow down the cities to fit weather conditions.\n",
    "* Drop any rows will null values."
   ]
  },
  {
   "cell_type": "code",
   "execution_count": 5,
   "metadata": {},
   "outputs": [
    {
     "data": {
      "text/html": [
       "<div>\n",
       "<style scoped>\n",
       "    .dataframe tbody tr th:only-of-type {\n",
       "        vertical-align: middle;\n",
       "    }\n",
       "\n",
       "    .dataframe tbody tr th {\n",
       "        vertical-align: top;\n",
       "    }\n",
       "\n",
       "    .dataframe thead th {\n",
       "        text-align: right;\n",
       "    }\n",
       "</style>\n",
       "<table border=\"1\" class=\"dataframe\">\n",
       "  <thead>\n",
       "    <tr style=\"text-align: right;\">\n",
       "      <th></th>\n",
       "      <th>City</th>\n",
       "      <th>Lat</th>\n",
       "      <th>Lng</th>\n",
       "      <th>Max Temp</th>\n",
       "      <th>Humidity</th>\n",
       "      <th>Cloudiness</th>\n",
       "      <th>Wind Speed</th>\n",
       "      <th>Country</th>\n",
       "    </tr>\n",
       "  </thead>\n",
       "  <tbody>\n",
       "    <tr>\n",
       "      <th>109</th>\n",
       "      <td>Chitral</td>\n",
       "      <td>35.85</td>\n",
       "      <td>71.79</td>\n",
       "      <td>77.85</td>\n",
       "      <td>32</td>\n",
       "      <td>6</td>\n",
       "      <td>1.19</td>\n",
       "      <td>PK</td>\n",
       "    </tr>\n",
       "    <tr>\n",
       "      <th>183</th>\n",
       "      <td>Winnemucca</td>\n",
       "      <td>40.97</td>\n",
       "      <td>-117.74</td>\n",
       "      <td>77.00</td>\n",
       "      <td>22</td>\n",
       "      <td>1</td>\n",
       "      <td>3.60</td>\n",
       "      <td>US</td>\n",
       "    </tr>\n",
       "    <tr>\n",
       "      <th>281</th>\n",
       "      <td>Golden</td>\n",
       "      <td>39.76</td>\n",
       "      <td>-105.22</td>\n",
       "      <td>79.00</td>\n",
       "      <td>41</td>\n",
       "      <td>20</td>\n",
       "      <td>2.07</td>\n",
       "      <td>US</td>\n",
       "    </tr>\n",
       "    <tr>\n",
       "      <th>393</th>\n",
       "      <td>Wadersloh</td>\n",
       "      <td>51.73</td>\n",
       "      <td>8.25</td>\n",
       "      <td>72.00</td>\n",
       "      <td>42</td>\n",
       "      <td>5</td>\n",
       "      <td>2.60</td>\n",
       "      <td>DE</td>\n",
       "    </tr>\n",
       "    <tr>\n",
       "      <th>471</th>\n",
       "      <td>Lukovetskiy</td>\n",
       "      <td>64.30</td>\n",
       "      <td>41.92</td>\n",
       "      <td>77.00</td>\n",
       "      <td>33</td>\n",
       "      <td>0</td>\n",
       "      <td>3.00</td>\n",
       "      <td>RU</td>\n",
       "    </tr>\n",
       "    <tr>\n",
       "      <th>494</th>\n",
       "      <td>Maun</td>\n",
       "      <td>-19.98</td>\n",
       "      <td>23.42</td>\n",
       "      <td>73.40</td>\n",
       "      <td>25</td>\n",
       "      <td>0</td>\n",
       "      <td>4.10</td>\n",
       "      <td>BW</td>\n",
       "    </tr>\n",
       "  </tbody>\n",
       "</table>\n",
       "</div>"
      ],
      "text/plain": [
       "            City    Lat     Lng  Max Temp  Humidity  Cloudiness  Wind Speed  \\\n",
       "109      Chitral  35.85   71.79     77.85        32           6        1.19   \n",
       "183   Winnemucca  40.97 -117.74     77.00        22           1        3.60   \n",
       "281       Golden  39.76 -105.22     79.00        41          20        2.07   \n",
       "393    Wadersloh  51.73    8.25     72.00        42           5        2.60   \n",
       "471  Lukovetskiy  64.30   41.92     77.00        33           0        3.00   \n",
       "494         Maun -19.98   23.42     73.40        25           0        4.10   \n",
       "\n",
       "    Country  \n",
       "109      PK  \n",
       "183      US  \n",
       "281      US  \n",
       "393      DE  \n",
       "471      RU  \n",
       "494      BW  "
      ]
     },
     "execution_count": 5,
     "metadata": {},
     "output_type": "execute_result"
    }
   ],
   "source": [
    "# narrow cities to ideal weather conditions\n",
    "index = city_data[(city_data[\"Humidity\"] > 45) | \\\n",
    "                  (city_data[\"Wind Speed\"] > 5) | \\\n",
    "                  (city_data[\"Max Temp\"] < 70) | \\\n",
    "                  (city_data[\"Max Temp\"] > 80) | \\\n",
    "                  (city_data[\"Cloudiness\"] > 20)].index.tolist()\n",
    "hotel_df = city_data.drop(index)\n",
    "\n",
    "# drop null values and change City to title case\n",
    "hotel_df = hotel_df.dropna()\n",
    "hotel_df[\"City\"] = hotel_df[\"City\"].str.title()\n",
    "hotel_df"
   ]
  },
  {
   "cell_type": "markdown",
   "metadata": {},
   "source": [
    "### Hotel Map\n",
    "* Store into variable named `hotel_df`.\n",
    "* Add a \"Hotel Name\" column to the DataFrame.\n",
    "* Set parameters to search for hotels with 5000 meters.\n",
    "* Hit the Google Places API for each city's coordinates.\n",
    "* Store the first Hotel result into the DataFrame.\n",
    "* Plot markers on top of the heatmap."
   ]
  },
  {
   "cell_type": "code",
   "execution_count": 6,
   "metadata": {},
   "outputs": [],
   "source": [
    "# add column to dataframe\n",
    "hotel_df[\"Hotel Name\"] = \"\""
   ]
  },
  {
   "cell_type": "code",
   "execution_count": 7,
   "metadata": {},
   "outputs": [
    {
     "name": "stdout",
     "output_type": "stream",
     "text": [
      "There is no hotel within 5 km of Wadersloh.\n"
     ]
    }
   ],
   "source": [
    "# set parameters to search for hotels within 5 km\n",
    "base_url = \"https://maps.googleapis.com/maps/api/place/nearbysearch/json\"\n",
    "params = {\n",
    "    \"keyword\": \"Hotel\",\n",
    "    \"radius\": 5000,\n",
    "    \"type\": \"hotel\",\n",
    "    \"key\": g_key\n",
    "}\n",
    "\n",
    "# use nearby search to find first hotel near city and store into dataframe\n",
    "for index, row in hotel_df.iterrows():\n",
    "    params[\"location\"] = f\"{row['Lat']},{row['Lng']}\"\n",
    "    response = requests.get(base_url, params=params).json()\n",
    "    results = response[\"results\"]\n",
    "    try:\n",
    "        hotel_df.loc[index, \"Hotel Name\"] = results[0][\"name\"]\n",
    "    except (KeyError, IndexError):\n",
    "        print(f\"There is no hotel within 5 km of {row['City']}.\")"
   ]
  },
  {
   "cell_type": "code",
   "execution_count": 8,
   "metadata": {},
   "outputs": [
    {
     "data": {
      "text/html": [
       "<div>\n",
       "<style scoped>\n",
       "    .dataframe tbody tr th:only-of-type {\n",
       "        vertical-align: middle;\n",
       "    }\n",
       "\n",
       "    .dataframe tbody tr th {\n",
       "        vertical-align: top;\n",
       "    }\n",
       "\n",
       "    .dataframe thead th {\n",
       "        text-align: right;\n",
       "    }\n",
       "</style>\n",
       "<table border=\"1\" class=\"dataframe\">\n",
       "  <thead>\n",
       "    <tr style=\"text-align: right;\">\n",
       "      <th></th>\n",
       "      <th>City</th>\n",
       "      <th>Lat</th>\n",
       "      <th>Lng</th>\n",
       "      <th>Max Temp</th>\n",
       "      <th>Humidity</th>\n",
       "      <th>Cloudiness</th>\n",
       "      <th>Wind Speed</th>\n",
       "      <th>Country</th>\n",
       "      <th>Hotel Name</th>\n",
       "    </tr>\n",
       "  </thead>\n",
       "  <tbody>\n",
       "    <tr>\n",
       "      <th>109</th>\n",
       "      <td>Chitral</td>\n",
       "      <td>35.85</td>\n",
       "      <td>71.79</td>\n",
       "      <td>77.85</td>\n",
       "      <td>32</td>\n",
       "      <td>6</td>\n",
       "      <td>1.19</td>\n",
       "      <td>PK</td>\n",
       "      <td>Al Mughal Hotel</td>\n",
       "    </tr>\n",
       "    <tr>\n",
       "      <th>183</th>\n",
       "      <td>Winnemucca</td>\n",
       "      <td>40.97</td>\n",
       "      <td>-117.74</td>\n",
       "      <td>77.00</td>\n",
       "      <td>22</td>\n",
       "      <td>1</td>\n",
       "      <td>3.60</td>\n",
       "      <td>US</td>\n",
       "      <td>Candlewood Suites Winnemucca</td>\n",
       "    </tr>\n",
       "    <tr>\n",
       "      <th>281</th>\n",
       "      <td>Golden</td>\n",
       "      <td>39.76</td>\n",
       "      <td>-105.22</td>\n",
       "      <td>79.00</td>\n",
       "      <td>41</td>\n",
       "      <td>20</td>\n",
       "      <td>2.07</td>\n",
       "      <td>US</td>\n",
       "      <td>Denver Marriott West</td>\n",
       "    </tr>\n",
       "    <tr>\n",
       "      <th>393</th>\n",
       "      <td>Wadersloh</td>\n",
       "      <td>51.73</td>\n",
       "      <td>8.25</td>\n",
       "      <td>72.00</td>\n",
       "      <td>42</td>\n",
       "      <td>5</td>\n",
       "      <td>2.60</td>\n",
       "      <td>DE</td>\n",
       "      <td></td>\n",
       "    </tr>\n",
       "    <tr>\n",
       "      <th>471</th>\n",
       "      <td>Lukovetskiy</td>\n",
       "      <td>64.30</td>\n",
       "      <td>41.92</td>\n",
       "      <td>77.00</td>\n",
       "      <td>33</td>\n",
       "      <td>0</td>\n",
       "      <td>3.00</td>\n",
       "      <td>RU</td>\n",
       "      <td>Gostinitsa</td>\n",
       "    </tr>\n",
       "    <tr>\n",
       "      <th>494</th>\n",
       "      <td>Maun</td>\n",
       "      <td>-19.98</td>\n",
       "      <td>23.42</td>\n",
       "      <td>73.40</td>\n",
       "      <td>25</td>\n",
       "      <td>0</td>\n",
       "      <td>4.10</td>\n",
       "      <td>BW</td>\n",
       "      <td>Cresta Maun Hotel</td>\n",
       "    </tr>\n",
       "  </tbody>\n",
       "</table>\n",
       "</div>"
      ],
      "text/plain": [
       "            City    Lat     Lng  Max Temp  Humidity  Cloudiness  Wind Speed  \\\n",
       "109      Chitral  35.85   71.79     77.85        32           6        1.19   \n",
       "183   Winnemucca  40.97 -117.74     77.00        22           1        3.60   \n",
       "281       Golden  39.76 -105.22     79.00        41          20        2.07   \n",
       "393    Wadersloh  51.73    8.25     72.00        42           5        2.60   \n",
       "471  Lukovetskiy  64.30   41.92     77.00        33           0        3.00   \n",
       "494         Maun -19.98   23.42     73.40        25           0        4.10   \n",
       "\n",
       "    Country                    Hotel Name  \n",
       "109      PK               Al Mughal Hotel  \n",
       "183      US  Candlewood Suites Winnemucca  \n",
       "281      US          Denver Marriott West  \n",
       "393      DE                                \n",
       "471      RU                    Gostinitsa  \n",
       "494      BW             Cresta Maun Hotel  "
      ]
     },
     "execution_count": 8,
     "metadata": {},
     "output_type": "execute_result"
    }
   ],
   "source": [
    "# display results\n",
    "hotel_df"
   ]
  },
  {
   "cell_type": "code",
   "execution_count": 9,
   "metadata": {},
   "outputs": [],
   "source": [
    "# NOTE: Do not change any of the code in this cell\n",
    "\n",
    "# Using the template add the hotel marks to the heatmap\n",
    "info_box_template = \"\"\"\n",
    "<dl>\n",
    "<dt>Name</dt><dd>{Hotel Name}</dd>\n",
    "<dt>City</dt><dd>{City}</dd>\n",
    "<dt>Country</dt><dd>{Country}</dd>\n",
    "</dl>\n",
    "\"\"\"\n",
    "# Store the DataFrame Row\n",
    "# NOTE: be sure to update with your DataFrame name\n",
    "hotel_info = [info_box_template.format(**row) for index, row in \\\n",
    "              hotel_df.iterrows()]\n",
    "locations = hotel_df[[\"Lat\", \"Lng\"]]"
   ]
  },
  {
   "cell_type": "code",
   "execution_count": 10,
   "metadata": {},
   "outputs": [
    {
     "data": {
      "application/vnd.jupyter.widget-view+json": {
       "model_id": "2420bfba19b44b93b0ca620729b01462",
       "version_major": 2,
       "version_minor": 0
      },
      "text/plain": [
       "Figure(layout=FigureLayout(height='420px'))"
      ]
     },
     "metadata": {},
     "output_type": "display_data"
    }
   ],
   "source": [
    "# Add marker layer on top of heat map\n",
    "markers = gmaps.marker_layer(locations, info_box_content=hotel_info)\n",
    "fig.add_layer(markers)\n",
    "# Display figure\n",
    "fig"
   ]
  }
 ],
 "metadata": {
  "kernelspec": {
   "display_name": "Python 3",
   "language": "python",
   "name": "python3"
  },
  "language_info": {
   "codemirror_mode": {
    "name": "ipython",
    "version": 3
   },
   "file_extension": ".py",
   "mimetype": "text/x-python",
   "name": "python",
   "nbconvert_exporter": "python",
   "pygments_lexer": "ipython3",
   "version": "3.6.10"
  },
  "latex_envs": {
   "LaTeX_envs_menu_present": true,
   "autoclose": false,
   "autocomplete": true,
   "bibliofile": "biblio.bib",
   "cite_by": "apalike",
   "current_citInitial": 1,
   "eqLabelWithNumbers": true,
   "eqNumInitial": 1,
   "hotkeys": {
    "equation": "Ctrl-E",
    "itemize": "Ctrl-I"
   },
   "labels_anchors": false,
   "latex_user_defs": false,
   "report_style_numbering": false,
   "user_envs_cfg": false
  }
 },
 "nbformat": 4,
 "nbformat_minor": 2
}
